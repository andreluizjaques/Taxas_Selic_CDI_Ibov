{
 "cells": [
  {
   "cell_type": "code",
   "execution_count": 27,
   "id": "b49a36d2",
   "metadata": {},
   "outputs": [],
   "source": [
    "import pandas as pd\n",
    "import seaborn as sns; sns.set()\n",
    "import matplotlib.pyplot as plt\n",
    "import numpy as np\n",
    "import datetime\n",
    "import plotly.express as px"
   ]
  },
  {
   "cell_type": "code",
   "execution_count": 28,
   "id": "cc73c5e7",
   "metadata": {},
   "outputs": [],
   "source": [
    "def consulta_bacen(codigo_bacen):\n",
    "    url = 'http://api.bcb.gov.br/dados/serie/bcdata.sgs.{}/dados?formato=json'.format(codigo_bacen)\n",
    "    df = pd.read_json(url)\n",
    "    df['data'] = pd.to_datetime(df['data'], dayfirst=True)\n",
    "    df.set_index('data', inplace=True)\n",
    "    return df\n",
    "    \n",
    "    "
   ]
  },
  {
   "cell_type": "code",
   "execution_count": 124,
   "id": "c80a98b7",
   "metadata": {},
   "outputs": [
    {
     "data": {
      "text/html": [
       "<div>\n",
       "<style scoped>\n",
       "    .dataframe tbody tr th:only-of-type {\n",
       "        vertical-align: middle;\n",
       "    }\n",
       "\n",
       "    .dataframe tbody tr th {\n",
       "        vertical-align: top;\n",
       "    }\n",
       "\n",
       "    .dataframe thead th {\n",
       "        text-align: right;\n",
       "    }\n",
       "</style>\n",
       "<table border=\"1\" class=\"dataframe\">\n",
       "  <thead>\n",
       "    <tr style=\"text-align: right;\">\n",
       "      <th></th>\n",
       "      <th>valor</th>\n",
       "    </tr>\n",
       "    <tr>\n",
       "      <th>data</th>\n",
       "      <th></th>\n",
       "    </tr>\n",
       "  </thead>\n",
       "  <tbody>\n",
       "    <tr>\n",
       "      <th>1999-03-05</th>\n",
       "      <td>45.00</td>\n",
       "    </tr>\n",
       "    <tr>\n",
       "      <th>1999-03-06</th>\n",
       "      <td>45.00</td>\n",
       "    </tr>\n",
       "    <tr>\n",
       "      <th>1999-03-07</th>\n",
       "      <td>45.00</td>\n",
       "    </tr>\n",
       "    <tr>\n",
       "      <th>1999-03-08</th>\n",
       "      <td>45.00</td>\n",
       "    </tr>\n",
       "    <tr>\n",
       "      <th>1999-03-09</th>\n",
       "      <td>45.00</td>\n",
       "    </tr>\n",
       "    <tr>\n",
       "      <th>...</th>\n",
       "      <td>...</td>\n",
       "    </tr>\n",
       "    <tr>\n",
       "      <th>2022-04-30</th>\n",
       "      <td>11.75</td>\n",
       "    </tr>\n",
       "    <tr>\n",
       "      <th>2022-05-01</th>\n",
       "      <td>11.75</td>\n",
       "    </tr>\n",
       "    <tr>\n",
       "      <th>2022-05-02</th>\n",
       "      <td>11.75</td>\n",
       "    </tr>\n",
       "    <tr>\n",
       "      <th>2022-05-03</th>\n",
       "      <td>11.75</td>\n",
       "    </tr>\n",
       "    <tr>\n",
       "      <th>2022-05-04</th>\n",
       "      <td>11.75</td>\n",
       "    </tr>\n",
       "  </tbody>\n",
       "</table>\n",
       "<p>8462 rows × 1 columns</p>\n",
       "</div>"
      ],
      "text/plain": [
       "            valor\n",
       "data             \n",
       "1999-03-05  45.00\n",
       "1999-03-06  45.00\n",
       "1999-03-07  45.00\n",
       "1999-03-08  45.00\n",
       "1999-03-09  45.00\n",
       "...           ...\n",
       "2022-04-30  11.75\n",
       "2022-05-01  11.75\n",
       "2022-05-02  11.75\n",
       "2022-05-03  11.75\n",
       "2022-05-04  11.75\n",
       "\n",
       "[8462 rows x 1 columns]"
      ]
     },
     "execution_count": 124,
     "metadata": {},
     "output_type": "execute_result"
    }
   ],
   "source": [
    "selic_meta = consulta_bacen(432)\n",
    "selic_taxa = consulta_bacen(1178)\n",
    "selic_meta\n"
   ]
  },
  {
   "cell_type": "code",
   "execution_count": 125,
   "id": "ed49faaa",
   "metadata": {},
   "outputs": [
    {
     "data": {
      "text/plain": [
       "valor    0\n",
       "dtype: int64"
      ]
     },
     "execution_count": 125,
     "metadata": {},
     "output_type": "execute_result"
    }
   ],
   "source": [
    "selic_taxa.isnull().sum()"
   ]
  },
  {
   "cell_type": "code",
   "execution_count": 126,
   "id": "c0273143",
   "metadata": {},
   "outputs": [],
   "source": [
    "#procv\n",
    "#pd.merge(tabela_1, tabela_2, on=['campo_em_comum'], how='left')\n",
    "proc = pd.merge(selic_taxa, selic_meta, on=['data'], how='left')"
   ]
  },
  {
   "cell_type": "code",
   "execution_count": 127,
   "id": "b485652b",
   "metadata": {},
   "outputs": [
    {
     "data": {
      "text/html": [
       "<div>\n",
       "<style scoped>\n",
       "    .dataframe tbody tr th:only-of-type {\n",
       "        vertical-align: middle;\n",
       "    }\n",
       "\n",
       "    .dataframe tbody tr th {\n",
       "        vertical-align: top;\n",
       "    }\n",
       "\n",
       "    .dataframe thead th {\n",
       "        text-align: right;\n",
       "    }\n",
       "</style>\n",
       "<table border=\"1\" class=\"dataframe\">\n",
       "  <thead>\n",
       "    <tr style=\"text-align: right;\">\n",
       "      <th></th>\n",
       "      <th>valor_x</th>\n",
       "      <th>valor_y</th>\n",
       "    </tr>\n",
       "    <tr>\n",
       "      <th>data</th>\n",
       "      <th></th>\n",
       "      <th></th>\n",
       "    </tr>\n",
       "  </thead>\n",
       "  <tbody>\n",
       "    <tr>\n",
       "      <th>1986-06-04</th>\n",
       "      <td>17.80</td>\n",
       "      <td>NaN</td>\n",
       "    </tr>\n",
       "    <tr>\n",
       "      <th>1986-06-05</th>\n",
       "      <td>18.50</td>\n",
       "      <td>NaN</td>\n",
       "    </tr>\n",
       "    <tr>\n",
       "      <th>1986-06-06</th>\n",
       "      <td>18.31</td>\n",
       "      <td>NaN</td>\n",
       "    </tr>\n",
       "    <tr>\n",
       "      <th>1986-06-09</th>\n",
       "      <td>18.76</td>\n",
       "      <td>NaN</td>\n",
       "    </tr>\n",
       "    <tr>\n",
       "      <th>1986-06-10</th>\n",
       "      <td>18.40</td>\n",
       "      <td>NaN</td>\n",
       "    </tr>\n",
       "    <tr>\n",
       "      <th>...</th>\n",
       "      <td>...</td>\n",
       "      <td>...</td>\n",
       "    </tr>\n",
       "    <tr>\n",
       "      <th>2022-03-31</th>\n",
       "      <td>11.65</td>\n",
       "      <td>11.75</td>\n",
       "    </tr>\n",
       "    <tr>\n",
       "      <th>2022-04-01</th>\n",
       "      <td>11.65</td>\n",
       "      <td>11.75</td>\n",
       "    </tr>\n",
       "    <tr>\n",
       "      <th>2022-04-04</th>\n",
       "      <td>11.65</td>\n",
       "      <td>11.75</td>\n",
       "    </tr>\n",
       "    <tr>\n",
       "      <th>2022-04-05</th>\n",
       "      <td>11.65</td>\n",
       "      <td>11.75</td>\n",
       "    </tr>\n",
       "    <tr>\n",
       "      <th>2022-04-06</th>\n",
       "      <td>11.65</td>\n",
       "      <td>11.75</td>\n",
       "    </tr>\n",
       "  </tbody>\n",
       "</table>\n",
       "<p>8984 rows × 2 columns</p>\n",
       "</div>"
      ],
      "text/plain": [
       "            valor_x  valor_y\n",
       "data                        \n",
       "1986-06-04    17.80      NaN\n",
       "1986-06-05    18.50      NaN\n",
       "1986-06-06    18.31      NaN\n",
       "1986-06-09    18.76      NaN\n",
       "1986-06-10    18.40      NaN\n",
       "...             ...      ...\n",
       "2022-03-31    11.65    11.75\n",
       "2022-04-01    11.65    11.75\n",
       "2022-04-04    11.65    11.75\n",
       "2022-04-05    11.65    11.75\n",
       "2022-04-06    11.65    11.75\n",
       "\n",
       "[8984 rows x 2 columns]"
      ]
     },
     "execution_count": 127,
     "metadata": {},
     "output_type": "execute_result"
    }
   ],
   "source": [
    "proc"
   ]
  },
  {
   "cell_type": "code",
   "execution_count": 128,
   "id": "8195ac16",
   "metadata": {},
   "outputs": [
    {
     "data": {
      "text/plain": [
       "valor_x       0\n",
       "valor_y    3184\n",
       "dtype: int64"
      ]
     },
     "execution_count": 128,
     "metadata": {},
     "output_type": "execute_result"
    }
   ],
   "source": [
    "proc.isnull().sum()"
   ]
  },
  {
   "cell_type": "code",
   "execution_count": 142,
   "id": "a67940c9",
   "metadata": {
    "collapsed": true
   },
   "outputs": [
    {
     "data": {
      "text/html": [
       "<div>\n",
       "<style scoped>\n",
       "    .dataframe tbody tr th:only-of-type {\n",
       "        vertical-align: middle;\n",
       "    }\n",
       "\n",
       "    .dataframe tbody tr th {\n",
       "        vertical-align: top;\n",
       "    }\n",
       "\n",
       "    .dataframe thead th {\n",
       "        text-align: right;\n",
       "    }\n",
       "</style>\n",
       "<table border=\"1\" class=\"dataframe\">\n",
       "  <thead>\n",
       "    <tr style=\"text-align: right;\">\n",
       "      <th></th>\n",
       "      <th>selic taxa%</th>\n",
       "      <th>selic meta%</th>\n",
       "    </tr>\n",
       "    <tr>\n",
       "      <th>data</th>\n",
       "      <th></th>\n",
       "      <th></th>\n",
       "    </tr>\n",
       "  </thead>\n",
       "  <tbody>\n",
       "    <tr>\n",
       "      <th>2017-04-07</th>\n",
       "      <td>12.15</td>\n",
       "      <td>12.25</td>\n",
       "    </tr>\n",
       "    <tr>\n",
       "      <th>2017-04-10</th>\n",
       "      <td>12.15</td>\n",
       "      <td>12.25</td>\n",
       "    </tr>\n",
       "    <tr>\n",
       "      <th>2017-04-11</th>\n",
       "      <td>12.15</td>\n",
       "      <td>12.25</td>\n",
       "    </tr>\n",
       "    <tr>\n",
       "      <th>2017-04-12</th>\n",
       "      <td>12.15</td>\n",
       "      <td>12.25</td>\n",
       "    </tr>\n",
       "    <tr>\n",
       "      <th>2017-04-13</th>\n",
       "      <td>11.15</td>\n",
       "      <td>11.25</td>\n",
       "    </tr>\n",
       "    <tr>\n",
       "      <th>...</th>\n",
       "      <td>...</td>\n",
       "      <td>...</td>\n",
       "    </tr>\n",
       "    <tr>\n",
       "      <th>2022-03-31</th>\n",
       "      <td>11.65</td>\n",
       "      <td>11.75</td>\n",
       "    </tr>\n",
       "    <tr>\n",
       "      <th>2022-04-01</th>\n",
       "      <td>11.65</td>\n",
       "      <td>11.75</td>\n",
       "    </tr>\n",
       "    <tr>\n",
       "      <th>2022-04-04</th>\n",
       "      <td>11.65</td>\n",
       "      <td>11.75</td>\n",
       "    </tr>\n",
       "    <tr>\n",
       "      <th>2022-04-05</th>\n",
       "      <td>11.65</td>\n",
       "      <td>11.75</td>\n",
       "    </tr>\n",
       "    <tr>\n",
       "      <th>2022-04-06</th>\n",
       "      <td>11.65</td>\n",
       "      <td>11.75</td>\n",
       "    </tr>\n",
       "  </tbody>\n",
       "</table>\n",
       "<p>1253 rows × 2 columns</p>\n",
       "</div>"
      ],
      "text/plain": [
       "            selic taxa%  selic meta%\n",
       "data                                \n",
       "2017-04-07        12.15        12.25\n",
       "2017-04-10        12.15        12.25\n",
       "2017-04-11        12.15        12.25\n",
       "2017-04-12        12.15        12.25\n",
       "2017-04-13        11.15        11.25\n",
       "...                 ...          ...\n",
       "2022-03-31        11.65        11.75\n",
       "2022-04-01        11.65        11.75\n",
       "2022-04-04        11.65        11.75\n",
       "2022-04-05        11.65        11.75\n",
       "2022-04-06        11.65        11.75\n",
       "\n",
       "[1253 rows x 2 columns]"
      ]
     },
     "execution_count": 142,
     "metadata": {},
     "output_type": "execute_result"
    }
   ],
   "source": [
    "proc.dropna(inplace=True)\n",
    "filtro_proc = proc.loc['2017-04-07':]\n",
    "filtro_proc.columns = ['selic taxa%', 'selic meta%']\n",
    "filtro_proc"
   ]
  },
  {
   "cell_type": "code",
   "execution_count": 141,
   "id": "26804c4b",
   "metadata": {},
   "outputs": [
    {
     "data": {
      "image/png": "[encoded data removed]",
      "text/plain": [
       "<Figure size 432x288 with 1 Axes>"
      ]
     },
     "metadata": {},
     "output_type": "display_data"
    }
   ],
   "source": [
    "ad=filtro_proc.plot()\n",
    "plt.title('Taxa Selic - Taxa vs Meta')\n",
    "plt.xlabel('Data')\n",
    "plt.ylabel('Taxa')\n",
    "ad.set_facecolor('white')"
   ]
  },
  {
   "cell_type": "code",
   "execution_count": 1,
   "id": "90df75c5",
   "metadata": {
    "collapsed": true
   },
   "outputs": [
    {
     "name": "stdout",
     "output_type": "stream",
     "text": [
      "Collecting yfinance\n",
      "  Downloading yfinance-0.1.70-py2.py3-none-any.whl (26 kB)\n",
      "Requirement already satisfied: numpy>=1.15 in c:\\users\\andre\\anaconda3\\lib\\site-packages (from yfinance) (1.20.3)\n",
      "Collecting multitasking>=0.0.7\n",
      "  Downloading multitasking-0.0.10.tar.gz (8.2 kB)\n",
      "Requirement already satisfied: lxml>=4.5.1 in c:\\users\\andre\\anaconda3\\lib\\site-packages (from yfinance) (4.6.3)\n",
      "Requirement already satisfied: requests>=2.26 in c:\\users\\andre\\anaconda3\\lib\\site-packages (from yfinance) (2.26.0)\n",
      "Requirement already satisfied: pandas>=0.24.0 in c:\\users\\andre\\anaconda3\\lib\\site-packages (from yfinance) (1.3.4)\n",
      "Requirement already satisfied: pytz>=2017.3 in c:\\users\\andre\\anaconda3\\lib\\site-packages (from pandas>=0.24.0->yfinance) (2021.3)\n",
      "Requirement already satisfied: python-dateutil>=2.7.3 in c:\\users\\andre\\anaconda3\\lib\\site-packages (from pandas>=0.24.0->yfinance) (2.8.2)\n",
      "Requirement already satisfied: six>=1.5 in c:\\users\\andre\\anaconda3\\lib\\site-packages (from python-dateutil>=2.7.3->pandas>=0.24.0->yfinance) (1.16.0)\n",
      "Requirement already satisfied: idna<4,>=2.5 in c:\\users\\andre\\anaconda3\\lib\\site-packages (from requests>=2.26->yfinance) (3.2)\n",
      "Requirement already satisfied: charset-normalizer~=2.0.0 in c:\\users\\andre\\anaconda3\\lib\\site-packages (from requests>=2.26->yfinance) (2.0.4)\n",
      "Requirement already satisfied: certifi>=2017.4.17 in c:\\users\\andre\\anaconda3\\lib\\site-packages (from requests>=2.26->yfinance) (2021.10.8)\n",
      "Requirement already satisfied: urllib3<1.27,>=1.21.1 in c:\\users\\andre\\anaconda3\\lib\\site-packages (from requests>=2.26->yfinance) (1.26.7)\n",
      "Building wheels for collected packages: multitasking\n",
      "  Building wheel for multitasking (setup.py): started\n",
      "  Building wheel for multitasking (setup.py): finished with status 'done'\n",
      "  Created wheel for multitasking: filename=multitasking-0.0.10-py3-none-any.whl size=8500 sha256=a2a47401b6ad72df836b9c522e00b6383f4f742ddecffff30f94389626c51759\n",
      "  Stored in directory: C:\\Users\\andre\\AppData\\Local\\Temp\\pip-ephem-wheel-cache-l3oe051j\\wheels\\f2\\b5\\2c\\59ba95dcf854e542944c75fe3da584e4e3833b319735a0546c\n",
      "Successfully built multitasking\n",
      "Installing collected packages: multitasking, yfinance\n",
      "Successfully installed multitasking-0.0.10 yfinance-0.1.70\n"
     ]
    }
   ],
   "source": [
    "!pip install yfinance --upgrade --no-cache-dir\n",
    "import yfinance as yf\n",
    "yf.pdr_override()"
   ]
  },
  {
   "cell_type": "code",
   "execution_count": 5,
   "id": "1bb65729",
   "metadata": {},
   "outputs": [],
   "source": [
    "import pandas_datareader.data as web"
   ]
  },
  {
   "cell_type": "code",
   "execution_count": 7,
   "id": "74ff8e7c",
   "metadata": {},
   "outputs": [],
   "source": [
    "ibov = web.get_data_yahoo('^BVSP')\n"
   ]
  },
  {
   "cell_type": "code",
   "execution_count": 95,
   "id": "8f023459",
   "metadata": {
    "collapsed": true
   },
   "outputs": [
    {
     "data": {
      "text/html": [
       "<div>\n",
       "<style scoped>\n",
       "    .dataframe tbody tr th:only-of-type {\n",
       "        vertical-align: middle;\n",
       "    }\n",
       "\n",
       "    .dataframe tbody tr th {\n",
       "        vertical-align: top;\n",
       "    }\n",
       "\n",
       "    .dataframe thead th {\n",
       "        text-align: right;\n",
       "    }\n",
       "</style>\n",
       "<table border=\"1\" class=\"dataframe\">\n",
       "  <thead>\n",
       "    <tr style=\"text-align: right;\">\n",
       "      <th></th>\n",
       "      <th>High</th>\n",
       "      <th>Low</th>\n",
       "      <th>Open</th>\n",
       "      <th>Close</th>\n",
       "      <th>Volume</th>\n",
       "      <th>Adj Close</th>\n",
       "    </tr>\n",
       "    <tr>\n",
       "      <th>Date</th>\n",
       "      <th></th>\n",
       "      <th></th>\n",
       "      <th></th>\n",
       "      <th></th>\n",
       "      <th></th>\n",
       "      <th></th>\n",
       "    </tr>\n",
       "  </thead>\n",
       "  <tbody>\n",
       "    <tr>\n",
       "      <th>2017-04-07</th>\n",
       "      <td>NaN</td>\n",
       "      <td>NaN</td>\n",
       "      <td>NaN</td>\n",
       "      <td>NaN</td>\n",
       "      <td>NaN</td>\n",
       "      <td>NaN</td>\n",
       "    </tr>\n",
       "    <tr>\n",
       "      <th>2017-04-10</th>\n",
       "      <td>-0.004126</td>\n",
       "      <td>0.001546</td>\n",
       "      <td>0.006090</td>\n",
       "      <td>0.000882</td>\n",
       "      <td>0.045880</td>\n",
       "      <td>0.000882</td>\n",
       "    </tr>\n",
       "    <tr>\n",
       "      <th>2017-04-11</th>\n",
       "      <td>-0.000862</td>\n",
       "      <td>-0.011916</td>\n",
       "      <td>0.000882</td>\n",
       "      <td>-0.004486</td>\n",
       "      <td>0.065147</td>\n",
       "      <td>-0.004486</td>\n",
       "    </tr>\n",
       "    <tr>\n",
       "      <th>2017-04-12</th>\n",
       "      <td>-0.006413</td>\n",
       "      <td>0.007308</td>\n",
       "      <td>-0.004455</td>\n",
       "      <td>-0.007272</td>\n",
       "      <td>0.338252</td>\n",
       "      <td>-0.007272</td>\n",
       "    </tr>\n",
       "    <tr>\n",
       "      <th>2017-04-13</th>\n",
       "      <td>-0.007199</td>\n",
       "      <td>-0.015482</td>\n",
       "      <td>-0.007318</td>\n",
       "      <td>-0.016684</td>\n",
       "      <td>-0.244646</td>\n",
       "      <td>-0.016684</td>\n",
       "    </tr>\n",
       "    <tr>\n",
       "      <th>...</th>\n",
       "      <td>...</td>\n",
       "      <td>...</td>\n",
       "      <td>...</td>\n",
       "      <td>...</td>\n",
       "      <td>...</td>\n",
       "      <td>...</td>\n",
       "    </tr>\n",
       "    <tr>\n",
       "      <th>2022-03-31</th>\n",
       "      <td>0.002896</td>\n",
       "      <td>0.001870</td>\n",
       "      <td>0.002066</td>\n",
       "      <td>-0.002170</td>\n",
       "      <td>0.028348</td>\n",
       "      <td>-0.002170</td>\n",
       "    </tr>\n",
       "    <tr>\n",
       "      <th>2022-04-01</th>\n",
       "      <td>0.005783</td>\n",
       "      <td>0.000017</td>\n",
       "      <td>-0.002162</td>\n",
       "      <td>0.013092</td>\n",
       "      <td>0.230207</td>\n",
       "      <td>0.013092</td>\n",
       "    </tr>\n",
       "    <tr>\n",
       "      <th>2022-04-04</th>\n",
       "      <td>-0.000074</td>\n",
       "      <td>0.006275</td>\n",
       "      <td>0.013067</td>\n",
       "      <td>-0.002385</td>\n",
       "      <td>-0.360528</td>\n",
       "      <td>-0.002385</td>\n",
       "    </tr>\n",
       "    <tr>\n",
       "      <th>2022-04-05</th>\n",
       "      <td>0.000477</td>\n",
       "      <td>-0.016231</td>\n",
       "      <td>-0.002385</td>\n",
       "      <td>-0.019748</td>\n",
       "      <td>0.337679</td>\n",
       "      <td>-0.019748</td>\n",
       "    </tr>\n",
       "    <tr>\n",
       "      <th>2022-04-06</th>\n",
       "      <td>-0.022550</td>\n",
       "      <td>-0.016864</td>\n",
       "      <td>-0.019737</td>\n",
       "      <td>-0.005528</td>\n",
       "      <td>-1.000000</td>\n",
       "      <td>-0.005528</td>\n",
       "    </tr>\n",
       "  </tbody>\n",
       "</table>\n",
       "<p>1235 rows × 6 columns</p>\n",
       "</div>"
      ],
      "text/plain": [
       "                High       Low      Open     Close    Volume  Adj Close\n",
       "Date                                                                   \n",
       "2017-04-07       NaN       NaN       NaN       NaN       NaN        NaN\n",
       "2017-04-10 -0.004126  0.001546  0.006090  0.000882  0.045880   0.000882\n",
       "2017-04-11 -0.000862 -0.011916  0.000882 -0.004486  0.065147  -0.004486\n",
       "2017-04-12 -0.006413  0.007308 -0.004455 -0.007272  0.338252  -0.007272\n",
       "2017-04-13 -0.007199 -0.015482 -0.007318 -0.016684 -0.244646  -0.016684\n",
       "...              ...       ...       ...       ...       ...        ...\n",
       "2022-03-31  0.002896  0.001870  0.002066 -0.002170  0.028348  -0.002170\n",
       "2022-04-01  0.005783  0.000017 -0.002162  0.013092  0.230207   0.013092\n",
       "2022-04-04 -0.000074  0.006275  0.013067 -0.002385 -0.360528  -0.002385\n",
       "2022-04-05  0.000477 -0.016231 -0.002385 -0.019748  0.337679  -0.019748\n",
       "2022-04-06 -0.022550 -0.016864 -0.019737 -0.005528 -1.000000  -0.005528\n",
       "\n",
       "[1235 rows x 6 columns]"
      ]
     },
     "execution_count": 95,
     "metadata": {},
     "output_type": "execute_result"
    }
   ],
   "source": [
    "ibov_retorno = ibov.pct_change()\n",
    "ibov_retorno\n"
   ]
  },
  {
   "cell_type": "code",
   "execution_count": 96,
   "id": "a261f00e",
   "metadata": {},
   "outputs": [],
   "source": [
    "data_inicio = '2017-04-07'"
   ]
  },
  {
   "cell_type": "code",
   "execution_count": 97,
   "id": "eed198a4",
   "metadata": {},
   "outputs": [],
   "source": [
    "ibov_retorno_acumu = (1 + ibov_retorno[ibov_retorno.index >= data_inicio]['Adj Close']).cumprod()\n",
    "ibov_retorno_acumu.iloc[0] = 1"
   ]
  },
  {
   "cell_type": "code",
   "execution_count": 98,
   "id": "d5926805",
   "metadata": {
    "collapsed": true
   },
   "outputs": [
    {
     "data": {
      "text/plain": [
       "Date\n",
       "2017-04-07    1.000000\n",
       "2017-04-10    1.000882\n",
       "2017-04-11    0.996393\n",
       "2017-04-12    0.989147\n",
       "2017-04-13    0.972644\n",
       "                ...   \n",
       "2022-03-31    1.857771\n",
       "2022-04-01    1.882092\n",
       "2022-04-04    1.877603\n",
       "2022-04-05    1.840525\n",
       "2022-04-06    1.830349\n",
       "Name: Adj Close, Length: 1235, dtype: float64"
      ]
     },
     "execution_count": 98,
     "metadata": {},
     "output_type": "execute_result"
    }
   ],
   "source": [
    "ibov_retorno_acumu"
   ]
  },
  {
   "cell_type": "code",
   "execution_count": 99,
   "id": "ce34bd9f",
   "metadata": {
    "collapsed": true
   },
   "outputs": [
    {
     "data": {
      "text/plain": [
       "<AxesSubplot:xlabel='Date'>"
      ]
     },
     "execution_count": 99,
     "metadata": {},
     "output_type": "execute_result"
    },
    {
     "data": {
      "image/png": "[encoded data removed]",
      "text/plain": [
       "<Figure size 432x288 with 1 Axes>"
      ]
     },
     "metadata": {},
     "output_type": "display_data"
    }
   ],
   "source": [
    "ibov_retorno_acumu.plot()"
   ]
  },
  {
   "cell_type": "code",
   "execution_count": 100,
   "id": "439c2c0e",
   "metadata": {
    "collapsed": true
   },
   "outputs": [
    {
     "data": {
      "text/html": [
       "<div>\n",
       "<style scoped>\n",
       "    .dataframe tbody tr th:only-of-type {\n",
       "        vertical-align: middle;\n",
       "    }\n",
       "\n",
       "    .dataframe tbody tr th {\n",
       "        vertical-align: top;\n",
       "    }\n",
       "\n",
       "    .dataframe thead th {\n",
       "        text-align: right;\n",
       "    }\n",
       "</style>\n",
       "<table border=\"1\" class=\"dataframe\">\n",
       "  <thead>\n",
       "    <tr style=\"text-align: right;\">\n",
       "      <th></th>\n",
       "      <th>valor</th>\n",
       "    </tr>\n",
       "    <tr>\n",
       "      <th>data</th>\n",
       "      <th></th>\n",
       "    </tr>\n",
       "  </thead>\n",
       "  <tbody>\n",
       "    <tr>\n",
       "      <th>1986-03-06</th>\n",
       "      <td>0.068111</td>\n",
       "    </tr>\n",
       "    <tr>\n",
       "      <th>1986-03-10</th>\n",
       "      <td>0.069028</td>\n",
       "    </tr>\n",
       "    <tr>\n",
       "      <th>1986-03-12</th>\n",
       "      <td>0.067417</td>\n",
       "    </tr>\n",
       "    <tr>\n",
       "      <th>1986-03-14</th>\n",
       "      <td>0.064584</td>\n",
       "    </tr>\n",
       "    <tr>\n",
       "      <th>1986-03-17</th>\n",
       "      <td>0.068222</td>\n",
       "    </tr>\n",
       "    <tr>\n",
       "      <th>...</th>\n",
       "      <td>...</td>\n",
       "    </tr>\n",
       "    <tr>\n",
       "      <th>2022-03-30</th>\n",
       "      <td>0.043739</td>\n",
       "    </tr>\n",
       "    <tr>\n",
       "      <th>2022-03-31</th>\n",
       "      <td>0.043739</td>\n",
       "    </tr>\n",
       "    <tr>\n",
       "      <th>2022-04-01</th>\n",
       "      <td>0.043739</td>\n",
       "    </tr>\n",
       "    <tr>\n",
       "      <th>2022-04-04</th>\n",
       "      <td>0.043739</td>\n",
       "    </tr>\n",
       "    <tr>\n",
       "      <th>2022-04-05</th>\n",
       "      <td>0.043739</td>\n",
       "    </tr>\n",
       "  </tbody>\n",
       "</table>\n",
       "<p>9025 rows × 1 columns</p>\n",
       "</div>"
      ],
      "text/plain": [
       "               valor\n",
       "data                \n",
       "1986-03-06  0.068111\n",
       "1986-03-10  0.069028\n",
       "1986-03-12  0.067417\n",
       "1986-03-14  0.064584\n",
       "1986-03-17  0.068222\n",
       "...              ...\n",
       "2022-03-30  0.043739\n",
       "2022-03-31  0.043739\n",
       "2022-04-01  0.043739\n",
       "2022-04-04  0.043739\n",
       "2022-04-05  0.043739\n",
       "\n",
       "[9025 rows x 1 columns]"
      ]
     },
     "execution_count": 100,
     "metadata": {},
     "output_type": "execute_result"
    }
   ],
   "source": [
    "cdi = consulta_bacen(12)\n",
    "cdi"
   ]
  },
  {
   "cell_type": "code",
   "execution_count": 101,
   "id": "ad928935",
   "metadata": {},
   "outputs": [],
   "source": [
    "cdi_acumulado = (1 + cdi[cdi.index >= data_inicio] / 100).cumprod()"
   ]
  },
  {
   "cell_type": "code",
   "execution_count": 102,
   "id": "c203cdd4",
   "metadata": {
    "collapsed": true
   },
   "outputs": [
    {
     "data": {
      "text/html": [
       "<div>\n",
       "<style scoped>\n",
       "    .dataframe tbody tr th:only-of-type {\n",
       "        vertical-align: middle;\n",
       "    }\n",
       "\n",
       "    .dataframe tbody tr th {\n",
       "        vertical-align: top;\n",
       "    }\n",
       "\n",
       "    .dataframe thead th {\n",
       "        text-align: right;\n",
       "    }\n",
       "</style>\n",
       "<table border=\"1\" class=\"dataframe\">\n",
       "  <thead>\n",
       "    <tr style=\"text-align: right;\">\n",
       "      <th></th>\n",
       "      <th>valor</th>\n",
       "    </tr>\n",
       "    <tr>\n",
       "      <th>data</th>\n",
       "      <th></th>\n",
       "    </tr>\n",
       "  </thead>\n",
       "  <tbody>\n",
       "    <tr>\n",
       "      <th>2017-04-07</th>\n",
       "      <td>1.000454</td>\n",
       "    </tr>\n",
       "    <tr>\n",
       "      <th>2017-04-10</th>\n",
       "      <td>1.000909</td>\n",
       "    </tr>\n",
       "    <tr>\n",
       "      <th>2017-04-11</th>\n",
       "      <td>1.001364</td>\n",
       "    </tr>\n",
       "    <tr>\n",
       "      <th>2017-04-12</th>\n",
       "      <td>1.001819</td>\n",
       "    </tr>\n",
       "    <tr>\n",
       "      <th>2017-04-13</th>\n",
       "      <td>1.002239</td>\n",
       "    </tr>\n",
       "    <tr>\n",
       "      <th>...</th>\n",
       "      <td>...</td>\n",
       "    </tr>\n",
       "    <tr>\n",
       "      <th>2022-03-30</th>\n",
       "      <td>1.319434</td>\n",
       "    </tr>\n",
       "    <tr>\n",
       "      <th>2022-03-31</th>\n",
       "      <td>1.320011</td>\n",
       "    </tr>\n",
       "    <tr>\n",
       "      <th>2022-04-01</th>\n",
       "      <td>1.320589</td>\n",
       "    </tr>\n",
       "    <tr>\n",
       "      <th>2022-04-04</th>\n",
       "      <td>1.321166</td>\n",
       "    </tr>\n",
       "    <tr>\n",
       "      <th>2022-04-05</th>\n",
       "      <td>1.321744</td>\n",
       "    </tr>\n",
       "  </tbody>\n",
       "</table>\n",
       "<p>1252 rows × 1 columns</p>\n",
       "</div>"
      ],
      "text/plain": [
       "               valor\n",
       "data                \n",
       "2017-04-07  1.000454\n",
       "2017-04-10  1.000909\n",
       "2017-04-11  1.001364\n",
       "2017-04-12  1.001819\n",
       "2017-04-13  1.002239\n",
       "...              ...\n",
       "2022-03-30  1.319434\n",
       "2022-03-31  1.320011\n",
       "2022-04-01  1.320589\n",
       "2022-04-04  1.321166\n",
       "2022-04-05  1.321744\n",
       "\n",
       "[1252 rows x 1 columns]"
      ]
     },
     "execution_count": 102,
     "metadata": {},
     "output_type": "execute_result"
    }
   ],
   "source": [
    "cdi_acumulado"
   ]
  },
  {
   "cell_type": "code",
   "execution_count": 122,
   "id": "1fe2361c",
   "metadata": {},
   "outputs": [
    {
     "data": {
      "image/png": "[encoded data removed]",
      "text/plain": [
       "<Figure size 432x288 with 1 Axes>"
      ]
     },
     "metadata": {},
     "output_type": "display_data"
    }
   ],
   "source": [
    "fig, ax=plt.subplots()\n",
    "ax.plot(ibov_retorno_acumu, color='tab:blue', label='Ibov')\n",
    "ax.plot(cdi_acumulado, color='tab:red', label='CDI')\n",
    "plt.title('Retorno Acumulado CDI vs Ibov')\n",
    "plt.legend()\n",
    "ax.set_facecolor('white')\n",
    "plt.show()"
   ]
  },
  {
   "cell_type": "code",
   "execution_count": null,
   "id": "015eaf68",
   "metadata": {},
   "outputs": [],
   "source": []
  },
  {
   "cell_type": "code",
   "execution_count": null,
   "id": "118bddde",
   "metadata": {},
   "outputs": [],
   "source": []
  }
 ],
 "metadata": {
  "kernelspec": {
   "display_name": "Python 3 (ipykernel)",
   "language": "python",
   "name": "python3"
  },
  "language_info": {
   "codemirror_mode": {
    "name": "ipython",
    "version": 3
   },
   "file_extension": ".py",
   "mimetype": "text/x-python",
   "name": "python",
   "nbconvert_exporter": "python",
   "pygments_lexer": "ipython3",
   "version": "3.9.7"
  }
 },
 "nbformat": 4,
 "nbformat_minor": 5
}
